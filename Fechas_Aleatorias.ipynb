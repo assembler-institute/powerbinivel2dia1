{
 "cells": [
  {
   "cell_type": "code",
   "execution_count": 1,
   "metadata": {},
   "outputs": [],
   "source": [
    "import random\n",
    "from datetime import datetime"
   ]
  },
  {
   "cell_type": "code",
   "execution_count": 2,
   "metadata": {},
   "outputs": [],
   "source": [
    "dates = [36, 184, 144, 68, 56, 56, 84, 64, 60, 68, 64, 164, 172, 240, 484, \n",
    "         876, 1052, 1156, 1516, 1352, 1396, 1928, 3316, 3100, 3052, 3764,\n",
    "         4032, 4808, 5712, 5724, 5036, 4556, 2628, 2184, 2328, 2456, 1376, 12]"
   ]
  },
  {
   "cell_type": "code",
   "execution_count": 3,
   "metadata": {},
   "outputs": [],
   "source": [
    "fechas = []"
   ]
  },
  {
   "cell_type": "code",
   "execution_count": 5,
   "metadata": {},
   "outputs": [
    {
     "name": "stdout",
     "output_type": "stream",
     "text": [
      "36\n",
      "184\n",
      "144\n",
      "68\n",
      "56\n",
      "56\n",
      "84\n",
      "64\n",
      "60\n",
      "68\n",
      "64\n",
      "164\n",
      "172\n",
      "240\n",
      "484\n",
      "876\n",
      "1052\n",
      "1156\n",
      "1516\n",
      "1352\n",
      "1396\n",
      "1928\n",
      "3316\n",
      "3100\n",
      "3052\n",
      "3764\n",
      "4032\n",
      "4808\n",
      "5712\n",
      "5724\n",
      "5036\n",
      "4556\n",
      "2628\n",
      "2184\n",
      "2328\n",
      "2456\n",
      "1376\n",
      "12\n"
     ]
    }
   ],
   "source": [
    "anio = 1980\n",
    "\n",
    "for valor in range(len(dates)):\n",
    "    print(dates[valor])\n",
    "    for cantidad in range(0, dates[valor]):\n",
    "        fechas.append(str((datetime(anio, 1, 1) + (datetime(anio, 12, 31) - datetime(anio, 1, 1) ) * random.random()).date()))\n",
    "    anio += 1\n",
    "        "
   ]
  },
  {
   "cell_type": "code",
   "execution_count": 6,
   "metadata": {},
   "outputs": [
    {
     "data": {
      "text/plain": [
       "65304"
      ]
     },
     "execution_count": 6,
     "metadata": {},
     "output_type": "execute_result"
    }
   ],
   "source": [
    "len(fechas)"
   ]
  },
  {
   "cell_type": "code",
   "execution_count": 8,
   "metadata": {},
   "outputs": [
    {
     "data": {
      "text/plain": [
       "'1980-04-03'"
      ]
     },
     "execution_count": 8,
     "metadata": {},
     "output_type": "execute_result"
    }
   ],
   "source": [
    "fechas[0]"
   ]
  },
  {
   "cell_type": "code",
   "execution_count": 9,
   "metadata": {},
   "outputs": [
    {
     "data": {
      "text/plain": [
       "'1980-04-03'"
      ]
     },
     "execution_count": 9,
     "metadata": {},
     "output_type": "execute_result"
    }
   ],
   "source": [
    "str(fechas[0])"
   ]
  },
  {
   "cell_type": "code",
   "execution_count": 10,
   "metadata": {},
   "outputs": [],
   "source": [
    "import pandas as pd"
   ]
  },
  {
   "cell_type": "code",
   "execution_count": 12,
   "metadata": {},
   "outputs": [],
   "source": [
    "df = pd.DataFrame({\n",
    "    \"ID\": range(1, len(fechas)+1),\n",
    "    \"FECHA\": fechas\n",
    "})"
   ]
  },
  {
   "cell_type": "code",
   "execution_count": 14,
   "metadata": {},
   "outputs": [],
   "source": [
    "df.to_csv(\"Fechas.csv\", index=None)"
   ]
  }
 ],
 "metadata": {
  "kernelspec": {
   "display_name": "Python 3",
   "language": "python",
   "name": "python3"
  },
  "language_info": {
   "codemirror_mode": {
    "name": "ipython",
    "version": 3
   },
   "file_extension": ".py",
   "mimetype": "text/x-python",
   "name": "python",
   "nbconvert_exporter": "python",
   "pygments_lexer": "ipython3",
   "version": "3.7.6"
  }
 },
 "nbformat": 4,
 "nbformat_minor": 4
}
